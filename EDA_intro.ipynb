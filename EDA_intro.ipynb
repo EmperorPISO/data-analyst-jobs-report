{
 "cells": [
  {
   "cell_type": "code",
   "execution_count": null,
   "id": "f292a66a",
   "metadata": {},
   "outputs": [],
   "source": [
    "# Importing libraries\n",
    "import pandas as pd\n",
    "import ast\n",
    "import matplotlib.pyplot as plt\n",
    "from datasets import load_dataset\n",
    "import seaborn as sns"
   ]
  },
  {
   "cell_type": "code",
   "execution_count": null,
   "id": "b18a5fd8",
   "metadata": {},
   "outputs": [],
   "source": [
    "# Loading the dataset\n",
    "data = load_dataset(\"lukebarousse/data_jobs\")\n",
    "df = data[\"train\"].to_pandas()  # type: ignore\n",
    "df"
   ]
  },
  {
   "cell_type": "code",
   "execution_count": null,
   "id": "78e44e35",
   "metadata": {},
   "outputs": [],
   "source": [
    "# Cleaning the datafile\n",
    "df[\"job_posted_date\"] = pd.to_datetime(df[\"job_posted_date\"])  # type: ignore\n",
    "df[\"job_skills\"] = df[\"job_skills\"].apply(lambda x: ast.literal_eval(x) if isinstance(x, str) and pd.notna(x) else x)  # type: ignore\n",
    "df"
   ]
  },
  {
   "cell_type": "markdown",
   "id": "72c6dfeb",
   "metadata": {},
   "source": [
    "<h1>Filter for Germany Data Analyst Roles</h1>\n"
   ]
  },
  {
   "cell_type": "code",
   "execution_count": null,
   "id": "bac36973",
   "metadata": {},
   "outputs": [],
   "source": [
    "df_DA_Ger = df[(df[\"job_country\"] == \"Germany\") & (df[\"job_title_short\"] == \"Data Analyst\")].copy()  # type: ignore\n",
    "df_DA_Ger"
   ]
  },
  {
   "cell_type": "markdown",
   "id": "29963f56",
   "metadata": {},
   "source": [
    "<h2>Analyzing job postings by location in Germany</h2>\n"
   ]
  },
  {
   "cell_type": "code",
   "execution_count": null,
   "id": "167c2b05",
   "metadata": {},
   "outputs": [],
   "source": []
  },
  {
   "cell_type": "code",
   "execution_count": null,
   "id": "81ddd497",
   "metadata": {},
   "outputs": [],
   "source": [
    "# Creating custom pallette\n",
    "color_list = [\"#2F0B53\", \"#A26FD4\"][::-1]\n",
    "cpal = sns.blend_palette(colors=color_list, n_colors=8, as_cmap=True)"
   ]
  },
  {
   "cell_type": "code",
   "execution_count": null,
   "id": "25c3836f",
   "metadata": {},
   "outputs": [],
   "source": [
    "df_plot = df_DA_Ger[\"job_location\"].value_counts().head(10).to_frame()\n",
    "sns.set_theme(style=\"ticks\")\n",
    "sns.barplot(\n",
    "    data=df_plot, x=\"count\", y=\"job_location\", hue=\"count\", palette=cpal, legend=False\n",
    ")\n",
    "sns.despine()\n",
    "plt.title(\n",
    "    \"Data Analyst Job Opening by Location in Germany\", fontsize=18, loc=\"center\", pad=30\n",
    ")\n",
    "plt.xlabel(\"Number of Jobs\")\n",
    "plt.ylabel(\"\")\n",
    "plt.show()"
   ]
  },
  {
   "cell_type": "code",
   "execution_count": null,
   "id": "f47b3c70",
   "metadata": {},
   "outputs": [],
   "source": [
    "plot_list = {\n",
    "    \"job_work_from_home\": \"Work From Home\",\n",
    "    \"job_no_degree_mention\": \"Degree Requirement\",\n",
    "    \"job_health_insurance\": \"Health Insurance Availability\",\n",
    "}\n",
    "\n",
    "truthy_vals = df[list(plot_list.keys())].apply(pd.Series.value_counts)  # type: ignore\n",
    "truthy_vals"
   ]
  },
  {
   "cell_type": "code",
   "execution_count": null,
   "id": "b42179d1",
   "metadata": {},
   "outputs": [],
   "source": [
    "fig, ax = plt.subplots(1, 3)\n",
    "fig.set_size_inches((12, 5))\n",
    "\n",
    "for i, (column, title) in enumerate(plot_list.items()):\n",
    "    ax[i].pie(\n",
    "        df_DA_Ger[column].value_counts(),\n",
    "        labels=[\"False\", \"True\"],\n",
    "        autopct=\"%1.1f%%\",\n",
    "        startangle=90,\n",
    "    )\n",
    "    ax[i].set_title(title)\n",
    "plt.show()"
   ]
  },
  {
   "cell_type": "code",
   "execution_count": null,
   "id": "4d949e1a",
   "metadata": {},
   "outputs": [],
   "source": [
    "df_plot = df_DA_Ger[\"company_name\"].value_counts().head(10).to_frame()\n",
    "sns.set_theme(style=\"ticks\")\n",
    "sns.barplot(\n",
    "    data=df_plot, x=\"count\", y=\"company_name\", hue=\"count\", palette=cpal, legend=False\n",
    ")\n",
    "sns.despine()\n",
    "plt.title(\n",
    "    \"Data Analyst Job Opening by Companies in Germany\",\n",
    "    fontsize=18,\n",
    "    loc=\"center\",\n",
    "    pad=30,\n",
    ")\n",
    "plt.xlabel(\"Number of Jobs\")\n",
    "plt.ylabel(\"\")\n",
    "plt.show()"
   ]
  }
 ],
 "metadata": {
  "kernelspec": {
   "display_name": "fastdata",
   "language": "python",
   "name": "python3"
  },
  "language_info": {
   "codemirror_mode": {
    "name": "ipython",
    "version": 3
   },
   "file_extension": ".py",
   "mimetype": "text/x-python",
   "name": "python",
   "nbconvert_exporter": "python",
   "pygments_lexer": "ipython3",
   "version": "3.12.11"
  }
 },
 "nbformat": 4,
 "nbformat_minor": 5
}
